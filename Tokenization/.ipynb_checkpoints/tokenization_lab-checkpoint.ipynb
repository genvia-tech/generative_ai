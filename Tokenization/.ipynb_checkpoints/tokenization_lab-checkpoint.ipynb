{
 "cells": [
  {
   "cell_type": "markdown",
   "metadata": {},
   "source": [
    "# Tokenization\n",
    "Tokenization is a key process in Natural Language Processing (NLP) that involves breaking down text into smaller, manageable pieces called tokens. These tokens can be words, subwords, or characters, and they help transform raw text into a structured format that models can easily understand and process."
   ]
  },
  {
   "cell_type": "markdown",
   "metadata": {},
   "source": [
    "## Corpus\n",
    "A large collection of text used to train language models. It includes text from various sources like books, articles, and social media. "
   ]
  },
  {
   "cell_type": "code",
   "execution_count": null,
   "metadata": {},
   "outputs": [],
   "source": [
    "corpus=\"\"\"True Happiness is something comes from deep inside. It comes from our hearts. Although we feel that material things or pleasures can make us happy, it is not true. A person who is wealthy may or may not be happy. However, a person who is happy is always wealthy.\n",
    "\n",
    "Happiness reflects one’s positive attitude towards life. Such a person strongly believes that whatever happens is for good. Even if he fails in life, he or she doesn’t blame destiny for it. Also,  such a person doesn’t lose hope. He is always hopeful.\n",
    "\n",
    "An optimistic person will always be happy. Moreover, such a person will be able to find pleasure even in the pain. Also, a happy person doesn’t depend on others or external factors to make him happy. He will manage to be happy even in the worst situations.\n",
    "\n",
    "Thus, we can conclude that happiness is an internal factor. It can be achieved by self-realization. Only by seeking unity with the Almighty, can one find true happiness.\n",
    "\"\"\""
   ]
  },
  {
   "cell_type": "code",
   "execution_count": null,
   "metadata": {},
   "outputs": [],
   "source": [
    "print(corpus)"
   ]
  },
  {
   "cell_type": "markdown",
   "metadata": {},
   "source": [
    "## About NLTK Library\n",
    "The Natural Language Toolkit (NLkT) is a powerful Python library for working with human language data (text). It provides tools for text processing, analysis, and computational linguistics.\n",
    "\n",
    "### Tokenization: \n",
    "Splitting text into words or sentences.\n",
    "    1. nltk.word_tokenize(text): Tokenizes a string into words.\n",
    "    2. nltk.sent_tokenize(text): Tokenizes a string into sentences."
   ]
  },
  {
   "cell_type": "markdown",
   "metadata": {},
   "source": [
    "## Sentence Tokenization\n",
    "Sentence tokenization is the process of dividing a piece of text into individual sentences. It is an important step in text processing and natural language understanding, as it helps to break down continuous text into manageable chunks (i.e., sentences) for further analysis or processing."
   ]
  },
  {
   "cell_type": "code",
   "execution_count": null,
   "metadata": {},
   "outputs": [],
   "source": [
    "## Sentence tokenization practical\n",
    "import nltk\n",
    "nltk.download('punkt')\n"
   ]
  },
  {
   "cell_type": "code",
   "execution_count": null,
   "metadata": {},
   "outputs": [],
   "source": [
    "sentences=nltk.sent_tokenize(\"hello\")"
   ]
  },
  {
   "cell_type": "code",
   "execution_count": 2,
   "metadata": {},
   "outputs": [
    {
     "name": "stdout",
     "output_type": "stream",
     "text": [
      "/usr/bin/python3: No module named pip\n",
      "Note: you may need to restart the kernel to use updated packages.\n"
     ]
    }
   ],
   "source": [
    "pip install nltk"
   ]
  },
  {
   "cell_type": "code",
   "execution_count": null,
   "metadata": {},
   "outputs": [],
   "source": [
    "!pip3 install nltk"
   ]
  },
  {
   "cell_type": "code",
   "execution_count": null,
   "metadata": {},
   "outputs": [],
   "source": []
  }
 ],
 "metadata": {
  "kernelspec": {
   "display_name": "Python 3 (ipykernel)",
   "language": "python",
   "name": "python3"
  },
  "language_info": {
   "codemirror_mode": {
    "name": "ipython",
    "version": 3
   },
   "file_extension": ".py",
   "mimetype": "text/x-python",
   "name": "python",
   "nbconvert_exporter": "python",
   "pygments_lexer": "ipython3",
   "version": "3.12.7"
  }
 },
 "nbformat": 4,
 "nbformat_minor": 2
}
