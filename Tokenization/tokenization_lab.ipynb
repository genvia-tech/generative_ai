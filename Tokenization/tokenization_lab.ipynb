{
 "cells": [
  {
   "cell_type": "markdown",
   "metadata": {},
   "source": [
    "# Tokenization\n",
    "Tokenization is a key process in Natural Language Processing (NLP) that involves breaking down text into smaller, manageable pieces called tokens. These tokens can be words, subwords, or characters, and they help transform raw text into a structured format that models can easily understand and process."
   ]
  },
  {
   "cell_type": "markdown",
   "metadata": {},
   "source": [
    "## Corpus\n",
    "A large collection of text used to train language models. It includes text from various sources like books, articles, and social media. "
   ]
  },
  {
   "cell_type": "code",
   "execution_count": 8,
   "metadata": {},
   "outputs": [],
   "source": [
    "corpus=\"\"\"True Happiness is something comes from deep inside. It comes from our hearts. Although we feel that material things or pleasures can make us happy, it is not true. A person who is wealthy may or may not be happy. However, a person who is happy is always wealthy.\n",
    "\n",
    "Happiness reflects one’s positive attitude towards life. Such a person strongly believes that whatever happens is for good. Even if he fails in life, he or she doesn’t blame destiny for it. Also,  such a person doesn’t lose hope. He is always hopeful.\n",
    "\n",
    "An optimistic person will always be happy. Moreover, such a person will be able to find pleasure even in the pain. Also, a happy person doesn’t depend on others or external factors to make him happy. He will manage to be happy even in the worst situations.\n",
    "\n",
    "Thus, we can conclude that happiness is an internal factor. It can be achieved by self-realization. Only by seeking unity with the Almighty, can one find true happiness.\n",
    "\"\"\""
   ]
  },
  {
   "cell_type": "code",
   "execution_count": 9,
   "metadata": {},
   "outputs": [
    {
     "name": "stdout",
     "output_type": "stream",
     "text": [
      "True Happiness is something comes from deep inside. It comes from our hearts. Although we feel that material things or pleasures can make us happy, it is not true. A person who is wealthy may or may not be happy. However, a person who is happy is always wealthy.\n",
      "\n",
      "Happiness reflects one’s positive attitude towards life. Such a person strongly believes that whatever happens is for good. Even if he fails in life, he or she doesn’t blame destiny for it. Also,  such a person doesn’t lose hope. He is always hopeful.\n",
      "\n",
      "An optimistic person will always be happy. Moreover, such a person will be able to find pleasure even in the pain. Also, a happy person doesn’t depend on others or external factors to make him happy. He will manage to be happy even in the worst situations.\n",
      "\n",
      "Thus, we can conclude that happiness is an internal factor. It can be achieved by self-realization. Only by seeking unity with the Almighty, can one find true happiness.\n",
      "\n"
     ]
    }
   ],
   "source": [
    "print(corpus)"
   ]
  },
  {
   "cell_type": "markdown",
   "metadata": {},
   "source": [
    "## About NLTK Library\n",
    "The Natural Language Toolkit (NLkT) is a powerful Python library for working with human language data (text). It provides tools for text processing, analysis, and computational linguistics.\n",
    "\n",
    "### Tokenization: \n",
    "Splitting text into words or sentences.\n",
    "    1. nltk.word_tokenize(text): Tokenizes a string into words.\n",
    "    2. nltk.sent_tokenize(text): Tokenizes a string into sentences."
   ]
  },
  {
   "cell_type": "markdown",
   "metadata": {},
   "source": [
    "#### Sentence Tokenization\n",
    "Sentence tokenization is the process of dividing a piece of text into individual sentences. It is an important step in text processing and natural language understanding, as it helps to break down continuous text into manageable chunks (i.e., sentences) for further analysis or processing."
   ]
  },
  {
   "cell_type": "code",
   "execution_count": 10,
   "metadata": {},
   "outputs": [
    {
     "name": "stderr",
     "output_type": "stream",
     "text": [
      "[nltk_data] Downloading package punkt_tab to /home/ash/nltk_data...\n",
      "[nltk_data]   Package punkt_tab is already up-to-date!\n",
      "[nltk_data] Downloading package punkt to /home/ash/nltk_data...\n",
      "[nltk_data]   Package punkt is already up-to-date!\n"
     ]
    },
    {
     "data": {
      "text/plain": [
       "True"
      ]
     },
     "execution_count": 10,
     "metadata": {},
     "output_type": "execute_result"
    }
   ],
   "source": [
    "## Sentence tokenization practical\n",
    "import nltk\n",
    "nltk.download('punkt_tab')\n",
    "nltk.download('punkt')"
   ]
  },
  {
   "cell_type": "code",
   "execution_count": 11,
   "metadata": {},
   "outputs": [],
   "source": [
    "sentences=nltk.sent_tokenize(corpus)"
   ]
  },
  {
   "cell_type": "code",
   "execution_count": null,
   "metadata": {},
   "outputs": [
    {
     "name": "stdout",
     "output_type": "stream",
     "text": [
      "<class 'list'>\n"
     ]
    }
   ],
   "source": [
    "print(typSe(sentences))"
   ]
  },
  {
   "cell_type": "code",
   "execution_count": 9,
   "metadata": {},
   "outputs": [
    {
     "name": "stdout",
     "output_type": "stream",
     "text": [
      "True Happiness is something comes from deep inside.\n",
      "It comes from our hearts.\n",
      "Although we feel that material things or pleasures can make us happy, it is not true.\n",
      "A person who is wealthy may or may not be happy.\n",
      "However, a person who is happy is always wealthy.\n",
      "Happiness reflects one’s positive attitude towards life.\n",
      "Such a person strongly believes that whatever happens is for good.\n",
      "Even if he fails in life, he or she doesn’t blame destiny for it.\n",
      "Also,  such a person doesn’t lose hope.\n",
      "He is always hopeful.\n",
      "An optimistic person will always be happy.\n",
      "Moreover, such a person will be able to find pleasure even in the pain.\n",
      "Also, a happy person doesn’t depend on others or external factors to make him happy.\n",
      "He will manage to be happy even in the worst situations.\n",
      "Thus, we can conclude that happiness is an internal factor.\n",
      "It can be achieved by self-realization.\n",
      "Only by seeking unity with the Almighty, can one find true happiness.\n"
     ]
    }
   ],
   "source": [
    "for sentence in sentences:\n",
    "    print(sentence)"
   ]
  },
  {
   "cell_type": "markdown",
   "metadata": {},
   "source": [
    "#### Word Tokenization\n",
    "This process splits text into individual words, making it easier to analyze language at the word level. For example, the sentence \"The quick brown fox\" is tokenized into [\"The\", \"quick\", \"brown\", \"fox\"] "
   ]
  },
  {
   "cell_type": "code",
   "execution_count": null,
   "metadata": {},
   "outputs": [],
   "source": [
    "words=nltk.word_tokenize(corpus)"
   ]
  },
  {
   "cell_type": "code",
   "execution_count": 15,
   "metadata": {},
   "outputs": [
    {
     "name": "stdout",
     "output_type": "stream",
     "text": [
      "True\n",
      "Happiness\n",
      "is\n",
      "something\n",
      "comes\n",
      "from\n",
      "deep\n",
      "inside\n",
      ".\n",
      "It\n",
      "comes\n",
      "from\n",
      "our\n",
      "hearts\n",
      ".\n",
      "Although\n",
      "we\n",
      "feel\n",
      "that\n",
      "material\n",
      "things\n",
      "or\n",
      "pleasures\n",
      "can\n",
      "make\n",
      "us\n",
      "happy\n",
      ",\n",
      "it\n",
      "is\n",
      "not\n",
      "true\n",
      ".\n",
      "A\n",
      "person\n",
      "who\n",
      "is\n",
      "wealthy\n",
      "may\n",
      "or\n",
      "may\n",
      "not\n",
      "be\n",
      "happy\n",
      ".\n",
      "However\n",
      ",\n",
      "a\n",
      "person\n",
      "who\n",
      "is\n",
      "happy\n",
      "is\n",
      "always\n",
      "wealthy\n",
      ".\n",
      "Happiness\n",
      "reflects\n",
      "one\n",
      "’\n",
      "s\n",
      "positive\n",
      "attitude\n",
      "towards\n",
      "life\n",
      ".\n",
      "Such\n",
      "a\n",
      "person\n",
      "strongly\n",
      "believes\n",
      "that\n",
      "whatever\n",
      "happens\n",
      "is\n",
      "for\n",
      "good\n",
      ".\n",
      "Even\n",
      "if\n",
      "he\n",
      "fails\n",
      "in\n",
      "life\n",
      ",\n",
      "he\n",
      "or\n",
      "she\n",
      "doesn\n",
      "’\n",
      "t\n",
      "blame\n",
      "destiny\n",
      "for\n",
      "it\n",
      ".\n",
      "Also\n",
      ",\n",
      "such\n",
      "a\n",
      "person\n",
      "doesn\n",
      "’\n",
      "t\n",
      "lose\n",
      "hope\n",
      ".\n",
      "He\n",
      "is\n",
      "always\n",
      "hopeful\n",
      ".\n",
      "An\n",
      "optimistic\n",
      "person\n",
      "will\n",
      "always\n",
      "be\n",
      "happy\n",
      ".\n",
      "Moreover\n",
      ",\n",
      "such\n",
      "a\n",
      "person\n",
      "will\n",
      "be\n",
      "able\n",
      "to\n",
      "find\n",
      "pleasure\n",
      "even\n",
      "in\n",
      "the\n",
      "pain\n",
      ".\n",
      "Also\n",
      ",\n",
      "a\n",
      "happy\n",
      "person\n",
      "doesn\n",
      "’\n",
      "t\n",
      "depend\n",
      "on\n",
      "others\n",
      "or\n",
      "external\n",
      "factors\n",
      "to\n",
      "make\n",
      "him\n",
      "happy\n",
      ".\n",
      "He\n",
      "will\n",
      "manage\n",
      "to\n",
      "be\n",
      "happy\n",
      "even\n",
      "in\n",
      "the\n",
      "worst\n",
      "situations\n",
      ".\n",
      "Thus\n",
      ",\n",
      "we\n",
      "can\n",
      "conclude\n",
      "that\n",
      "happiness\n",
      "is\n",
      "an\n",
      "internal\n",
      "factor\n",
      ".\n",
      "It\n",
      "can\n",
      "be\n",
      "achieved\n",
      "by\n",
      "self-realization\n",
      ".\n",
      "Only\n",
      "by\n",
      "seeking\n",
      "unity\n",
      "with\n",
      "the\n",
      "Almighty\n",
      ",\n",
      "can\n",
      "one\n",
      "find\n",
      "true\n",
      "happiness\n",
      ".\n"
     ]
    }
   ],
   "source": [
    "for word in words:\n",
    "    print(word)"
   ]
  },
  {
   "cell_type": "code",
   "execution_count": 16,
   "metadata": {},
   "outputs": [],
   "source": [
    "words=nltk.wordpunct_tokenize(corpus)"
   ]
  },
  {
   "cell_type": "code",
   "execution_count": 17,
   "metadata": {},
   "outputs": [
    {
     "name": "stdout",
     "output_type": "stream",
     "text": [
      "['True', 'Happiness', 'is', 'something', 'comes', 'from', 'deep', 'inside', '.', 'It', 'comes', 'from', 'our', 'hearts', '.', 'Although', 'we', 'feel', 'that', 'material', 'things', 'or', 'pleasures', 'can', 'make', 'us', 'happy', ',', 'it', 'is', 'not', 'true', '.', 'A', 'person', 'who', 'is', 'wealthy', 'may', 'or', 'may', 'not', 'be', 'happy', '.', 'However', ',', 'a', 'person', 'who', 'is', 'happy', 'is', 'always', 'wealthy', '.', 'Happiness', 'reflects', 'one', '’', 's', 'positive', 'attitude', 'towards', 'life', '.', 'Such', 'a', 'person', 'strongly', 'believes', 'that', 'whatever', 'happens', 'is', 'for', 'good', '.', 'Even', 'if', 'he', 'fails', 'in', 'life', ',', 'he', 'or', 'she', 'doesn', '’', 't', 'blame', 'destiny', 'for', 'it', '.', 'Also', ',', 'such', 'a', 'person', 'doesn', '’', 't', 'lose', 'hope', '.', 'He', 'is', 'always', 'hopeful', '.', 'An', 'optimistic', 'person', 'will', 'always', 'be', 'happy', '.', 'Moreover', ',', 'such', 'a', 'person', 'will', 'be', 'able', 'to', 'find', 'pleasure', 'even', 'in', 'the', 'pain', '.', 'Also', ',', 'a', 'happy', 'person', 'doesn', '’', 't', 'depend', 'on', 'others', 'or', 'external', 'factors', 'to', 'make', 'him', 'happy', '.', 'He', 'will', 'manage', 'to', 'be', 'happy', 'even', 'in', 'the', 'worst', 'situations', '.', 'Thus', ',', 'we', 'can', 'conclude', 'that', 'happiness', 'is', 'an', 'internal', 'factor', '.', 'It', 'can', 'be', 'achieved', 'by', 'self', '-', 'realization', '.', 'Only', 'by', 'seeking', 'unity', 'with', 'the', 'Almighty', ',', 'can', 'one', 'find', 'true', 'happiness', '.']\n"
     ]
    }
   ],
   "source": [
    "print(words)"
   ]
  },
  {
   "cell_type": "code",
   "execution_count": null,
   "metadata": {},
   "outputs": [],
   "source": []
  }
 ],
 "metadata": {
  "kernelspec": {
   "display_name": "Python 3 (ipykernel)",
   "language": "python",
   "name": "python3"
  },
  "language_info": {
   "codemirror_mode": {
    "name": "ipython",
    "version": 3
   },
   "file_extension": ".py",
   "mimetype": "text/x-python",
   "name": "python",
   "nbconvert_exporter": "python",
   "pygments_lexer": "ipython3",
   "version": "3.12.7"
  }
 },
 "nbformat": 4,
 "nbformat_minor": 4
}
